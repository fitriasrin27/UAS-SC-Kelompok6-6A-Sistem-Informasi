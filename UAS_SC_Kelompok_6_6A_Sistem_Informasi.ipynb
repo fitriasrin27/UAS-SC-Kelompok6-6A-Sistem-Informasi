{
  "nbformat": 4,
  "nbformat_minor": 0,
  "metadata": {
    "colab": {
      "provenance": []
    },
    "kernelspec": {
      "name": "python3",
      "display_name": "Python 3"
    },
    "language_info": {
      "name": "python"
    }
  },
  "cells": [
    {
      "cell_type": "markdown",
      "source": [
        "# **Kode Program Klasifikasi Gambar + Sistem Parkir**"
      ],
      "metadata": {
        "id": "FDi5OQP68hlD"
      }
    },
    {
      "cell_type": "markdown",
      "source": [
        "**1. 🔼 Upload Dataset ZIP (Secara Manual)**\n",
        "\n",
        "*   Upload file dataset secara manual\n",
        "*   Ekstrak isi ZIP\n",
        "*   Cek folder hasil esktrasi\n",
        "\n",
        "\n",
        "\n"
      ],
      "metadata": {
        "id": "C4PrX0EV8uLM"
      }
    },
    {
      "cell_type": "code",
      "execution_count": 1,
      "metadata": {
        "colab": {
          "base_uri": "https://localhost:8080/",
          "height": 90
        },
        "id": "b-tC_JQt11ZA",
        "outputId": "582404ba-7e74-4555-ddf2-016ceafe4a6e"
      },
      "outputs": [
        {
          "output_type": "display_data",
          "data": {
            "text/plain": [
              "<IPython.core.display.HTML object>"
            ],
            "text/html": [
              "\n",
              "     <input type=\"file\" id=\"files-f1ed3bb2-3415-4b2c-bfe4-667e02880e3d\" name=\"files[]\" multiple disabled\n",
              "        style=\"border:none\" />\n",
              "     <output id=\"result-f1ed3bb2-3415-4b2c-bfe4-667e02880e3d\">\n",
              "      Upload widget is only available when the cell has been executed in the\n",
              "      current browser session. Please rerun this cell to enable.\n",
              "      </output>\n",
              "      <script>// Copyright 2017 Google LLC\n",
              "//\n",
              "// Licensed under the Apache License, Version 2.0 (the \"License\");\n",
              "// you may not use this file except in compliance with the License.\n",
              "// You may obtain a copy of the License at\n",
              "//\n",
              "//      http://www.apache.org/licenses/LICENSE-2.0\n",
              "//\n",
              "// Unless required by applicable law or agreed to in writing, software\n",
              "// distributed under the License is distributed on an \"AS IS\" BASIS,\n",
              "// WITHOUT WARRANTIES OR CONDITIONS OF ANY KIND, either express or implied.\n",
              "// See the License for the specific language governing permissions and\n",
              "// limitations under the License.\n",
              "\n",
              "/**\n",
              " * @fileoverview Helpers for google.colab Python module.\n",
              " */\n",
              "(function(scope) {\n",
              "function span(text, styleAttributes = {}) {\n",
              "  const element = document.createElement('span');\n",
              "  element.textContent = text;\n",
              "  for (const key of Object.keys(styleAttributes)) {\n",
              "    element.style[key] = styleAttributes[key];\n",
              "  }\n",
              "  return element;\n",
              "}\n",
              "\n",
              "// Max number of bytes which will be uploaded at a time.\n",
              "const MAX_PAYLOAD_SIZE = 100 * 1024;\n",
              "\n",
              "function _uploadFiles(inputId, outputId) {\n",
              "  const steps = uploadFilesStep(inputId, outputId);\n",
              "  const outputElement = document.getElementById(outputId);\n",
              "  // Cache steps on the outputElement to make it available for the next call\n",
              "  // to uploadFilesContinue from Python.\n",
              "  outputElement.steps = steps;\n",
              "\n",
              "  return _uploadFilesContinue(outputId);\n",
              "}\n",
              "\n",
              "// This is roughly an async generator (not supported in the browser yet),\n",
              "// where there are multiple asynchronous steps and the Python side is going\n",
              "// to poll for completion of each step.\n",
              "// This uses a Promise to block the python side on completion of each step,\n",
              "// then passes the result of the previous step as the input to the next step.\n",
              "function _uploadFilesContinue(outputId) {\n",
              "  const outputElement = document.getElementById(outputId);\n",
              "  const steps = outputElement.steps;\n",
              "\n",
              "  const next = steps.next(outputElement.lastPromiseValue);\n",
              "  return Promise.resolve(next.value.promise).then((value) => {\n",
              "    // Cache the last promise value to make it available to the next\n",
              "    // step of the generator.\n",
              "    outputElement.lastPromiseValue = value;\n",
              "    return next.value.response;\n",
              "  });\n",
              "}\n",
              "\n",
              "/**\n",
              " * Generator function which is called between each async step of the upload\n",
              " * process.\n",
              " * @param {string} inputId Element ID of the input file picker element.\n",
              " * @param {string} outputId Element ID of the output display.\n",
              " * @return {!Iterable<!Object>} Iterable of next steps.\n",
              " */\n",
              "function* uploadFilesStep(inputId, outputId) {\n",
              "  const inputElement = document.getElementById(inputId);\n",
              "  inputElement.disabled = false;\n",
              "\n",
              "  const outputElement = document.getElementById(outputId);\n",
              "  outputElement.innerHTML = '';\n",
              "\n",
              "  const pickedPromise = new Promise((resolve) => {\n",
              "    inputElement.addEventListener('change', (e) => {\n",
              "      resolve(e.target.files);\n",
              "    });\n",
              "  });\n",
              "\n",
              "  const cancel = document.createElement('button');\n",
              "  inputElement.parentElement.appendChild(cancel);\n",
              "  cancel.textContent = 'Cancel upload';\n",
              "  const cancelPromise = new Promise((resolve) => {\n",
              "    cancel.onclick = () => {\n",
              "      resolve(null);\n",
              "    };\n",
              "  });\n",
              "\n",
              "  // Wait for the user to pick the files.\n",
              "  const files = yield {\n",
              "    promise: Promise.race([pickedPromise, cancelPromise]),\n",
              "    response: {\n",
              "      action: 'starting',\n",
              "    }\n",
              "  };\n",
              "\n",
              "  cancel.remove();\n",
              "\n",
              "  // Disable the input element since further picks are not allowed.\n",
              "  inputElement.disabled = true;\n",
              "\n",
              "  if (!files) {\n",
              "    return {\n",
              "      response: {\n",
              "        action: 'complete',\n",
              "      }\n",
              "    };\n",
              "  }\n",
              "\n",
              "  for (const file of files) {\n",
              "    const li = document.createElement('li');\n",
              "    li.append(span(file.name, {fontWeight: 'bold'}));\n",
              "    li.append(span(\n",
              "        `(${file.type || 'n/a'}) - ${file.size} bytes, ` +\n",
              "        `last modified: ${\n",
              "            file.lastModifiedDate ? file.lastModifiedDate.toLocaleDateString() :\n",
              "                                    'n/a'} - `));\n",
              "    const percent = span('0% done');\n",
              "    li.appendChild(percent);\n",
              "\n",
              "    outputElement.appendChild(li);\n",
              "\n",
              "    const fileDataPromise = new Promise((resolve) => {\n",
              "      const reader = new FileReader();\n",
              "      reader.onload = (e) => {\n",
              "        resolve(e.target.result);\n",
              "      };\n",
              "      reader.readAsArrayBuffer(file);\n",
              "    });\n",
              "    // Wait for the data to be ready.\n",
              "    let fileData = yield {\n",
              "      promise: fileDataPromise,\n",
              "      response: {\n",
              "        action: 'continue',\n",
              "      }\n",
              "    };\n",
              "\n",
              "    // Use a chunked sending to avoid message size limits. See b/62115660.\n",
              "    let position = 0;\n",
              "    do {\n",
              "      const length = Math.min(fileData.byteLength - position, MAX_PAYLOAD_SIZE);\n",
              "      const chunk = new Uint8Array(fileData, position, length);\n",
              "      position += length;\n",
              "\n",
              "      const base64 = btoa(String.fromCharCode.apply(null, chunk));\n",
              "      yield {\n",
              "        response: {\n",
              "          action: 'append',\n",
              "          file: file.name,\n",
              "          data: base64,\n",
              "        },\n",
              "      };\n",
              "\n",
              "      let percentDone = fileData.byteLength === 0 ?\n",
              "          100 :\n",
              "          Math.round((position / fileData.byteLength) * 100);\n",
              "      percent.textContent = `${percentDone}% done`;\n",
              "\n",
              "    } while (position < fileData.byteLength);\n",
              "  }\n",
              "\n",
              "  // All done.\n",
              "  yield {\n",
              "    response: {\n",
              "      action: 'complete',\n",
              "    }\n",
              "  };\n",
              "}\n",
              "\n",
              "scope.google = scope.google || {};\n",
              "scope.google.colab = scope.google.colab || {};\n",
              "scope.google.colab._files = {\n",
              "  _uploadFiles,\n",
              "  _uploadFilesContinue,\n",
              "};\n",
              "})(self);\n",
              "</script> "
            ]
          },
          "metadata": {}
        },
        {
          "output_type": "stream",
          "name": "stdout",
          "text": [
            "Saving Parkir Jenis Kendaraan.zip to Parkir Jenis Kendaraan.zip\n"
          ]
        },
        {
          "output_type": "execute_result",
          "data": {
            "text/plain": [
              "['Parkir Jenis Kendaraan']"
            ]
          },
          "metadata": {},
          "execution_count": 1
        }
      ],
      "source": [
        "from google.colab import files\n",
        "import zipfile\n",
        "import os\n",
        "\n",
        "# Upload file ZIP\n",
        "uploaded = files.upload()\n",
        "\n",
        "# Ekstrak file ZIP\n",
        "for file in uploaded.keys():\n",
        "    zip_path = file\n",
        "    with zipfile.ZipFile(zip_path, 'r') as zip_ref:\n",
        "        zip_ref.extractall(\"dataset\")\n",
        "\n",
        "# Cek folder hasil ekstraksi\n",
        "os.listdir(\"dataset\")"
      ]
    },
    {
      "cell_type": "markdown",
      "source": [
        "**2. 🧹 Preprocessing Data (Augmentasi + Normalisasi)**\n",
        "\n",
        "*   Data Cleaning\n",
        "*   Ukuran gambar model\n",
        "*   Objek ImageDataGenerator\n",
        "*   Data training\n",
        "*   Data validation\n",
        "\n",
        "\n",
        "\n"
      ],
      "metadata": {
        "id": "5Pt5cF-A-Amg"
      }
    },
    {
      "cell_type": "code",
      "source": [
        "import os\n",
        "from PIL import Image\n",
        "\n",
        "# Fungsi untuk menghapus gambar yang rusak atau terpotong (truncated)\n",
        "def delete_truncated_images(directory):\n",
        "    count_deleted = 0\n",
        "    print(f\"🔎 Memulai pengecekan dan penghapusan gambar rusak di: {directory}\")\n",
        "\n",
        "    # Iterasi melalui semua file di direktori dan subdirektorinya\n",
        "    for root, _, files in os.walk(directory):\n",
        "        for file in files:\n",
        "            # Periksa apakah file adalah gambar (jpg, jpeg, png)\n",
        "            if file.lower().endswith(('.jpg', '.jpeg', '.png')):\n",
        "                filepath = os.path.join(root, file)\n",
        "                try:\n",
        "                    # Buka dan muat gambar untuk mendeteksi kerusakan\n",
        "                    with Image.open(filepath) as img:\n",
        "                        img.load()\n",
        "                except (IOError, SyntaxError) as e:\n",
        "                    # Jika gambar rusak, hapus file tersebut\n",
        "                    print(f\"Menghapus gambar rusak: {filepath} - Error: {e}\")\n",
        "                    try:\n",
        "                        os.remove(filepath)\n",
        "                        count_deleted += 1\n",
        "                    except OSError as remove_error:\n",
        "                        print(f\"Error removing file {filepath}: {remove_error}\")\n",
        "\n",
        "    # Laporkan hasil penghapusan gambar\n",
        "    if count_deleted == 0:\n",
        "        print(\"✅ Tidak ada gambar rusak yang ditemukan.\")\n",
        "    else:\n",
        "        print(f\"🗑️ Total gambar rusak yang dihapus: {count_deleted}\")\n",
        "\n",
        "# Panggil fungsi pembersihan untuk direktori dataset kendaraan\n",
        "dataset_directory = 'Parkir Jenis Kendaraan/Vehicles' # Pastikan path sesuai\n",
        "delete_truncated_images(dataset_directory)"
      ],
      "metadata": {
        "colab": {
          "base_uri": "https://localhost:8080/"
        },
        "id": "MyefCwt_brhZ",
        "outputId": "db849ba2-279a-43b9-b7d1-251b032e4c97"
      },
      "execution_count": 32,
      "outputs": [
        {
          "output_type": "stream",
          "name": "stdout",
          "text": [
            "🔎 Memulai pengecekan dan penghapusan gambar rusak di: Parkir Jenis Kendaraan/Vehicles\n",
            "✅ Tidak ada gambar rusak yang ditemukan.\n"
          ]
        }
      ]
    },
    {
      "cell_type": "markdown",
      "source": [
        "**Augmentasi Data**"
      ],
      "metadata": {
        "id": "ctVc3fkpNBsM"
      }
    },
    {
      "cell_type": "code",
      "source": [
        "from tensorflow.keras.preprocessing.image import ImageDataGenerator\n",
        "\n",
        "# Menentukan ukuran gambar yang digunakan oleh model dan ukuran batch\n",
        "image_size = (224, 224)\n",
        "batch_size = 32\n",
        "\n",
        "# Membuat objek ImageDataGenerator untuk preprocessing dan augmentasi data\n",
        "datagen = ImageDataGenerator(\n",
        "    rescale=1./255,\n",
        "    rotation_range=10,\n",
        "    width_shift_range=0.1,\n",
        "    height_shift_range=0.1,\n",
        "    zoom_range=0.1,\n",
        "    horizontal_flip=True,\n",
        "    validation_split=0.2\n",
        ")\n",
        "\n",
        "# Membuat generator data training dari folder 'Vehicles'\n",
        "train_data = datagen.flow_from_directory(\n",
        "    'Parkir Jenis Kendaraan/Vehicles',\n",
        "    target_size=image_size,\n",
        "    batch_size=batch_size,\n",
        "    class_mode='categorical',\n",
        "    subset='training'\n",
        ")\n",
        "\n",
        "# Membuat generator data validasi dari folder 'Vehicles'\n",
        "val_data = datagen.flow_from_directory(\n",
        "    'Parkir Jenis Kendaraan/Vehicles',\n",
        "    target_size=image_size,\n",
        "    batch_size=batch_size,\n",
        "    class_mode='categorical',\n",
        "    subset='validation'\n",
        ")"
      ],
      "metadata": {
        "colab": {
          "base_uri": "https://localhost:8080/"
        },
        "id": "4TnImyhI1_J7",
        "outputId": "404234f5-fe65-4205-f4f4-9e108fcf0f3d"
      },
      "execution_count": 41,
      "outputs": [
        {
          "output_type": "stream",
          "name": "stdout",
          "text": [
            "Found 3530 images belonging to 5 classes.\n",
            "Found 881 images belonging to 5 classes.\n"
          ]
        }
      ]
    },
    {
      "cell_type": "markdown",
      "source": [
        "**3. 🧠 Transfer Learning dengan MobileNetV2**\n",
        "\n",
        "*   MobileNet2 (Pretrained Model)\n",
        "*   Fine-Tuning (Layer Tambahan)\n",
        "*   Kompilasi Model\n",
        "*   Training Model (Base Model Frozen)\n",
        "\n",
        "\n",
        "\n"
      ],
      "metadata": {
        "id": "gtKQzmXE-fq2"
      }
    },
    {
      "cell_type": "code",
      "source": [
        "from tensorflow.keras.applications import MobileNetV2\n",
        "from tensorflow.keras.models import Model\n",
        "from tensorflow.keras.layers import Dense, GlobalAveragePooling2D\n",
        "from tensorflow.keras.optimizers import Adam\n",
        "from tensorflow.keras.callbacks import EarlyStopping\n",
        "\n",
        "# Load base model MobileNetV2 tanpa top (fully connected layer)\n",
        "base_model = MobileNetV2(weights='imagenet', include_top=False, input_shape=(224, 224, 3))\n",
        "base_model.trainable = False  # Freeze layer bawaan agar cepat convergence\n",
        "\n",
        "# Tambahkan custom classification layer\n",
        "x = base_model.output\n",
        "x = GlobalAveragePooling2D()(x)\n",
        "x = Dense(128, activation='relu')(x)\n",
        "predictions = Dense(train_data.num_classes, activation='softmax')(x)\n",
        "\n",
        "# Buat model akhir\n",
        "model = Model(inputs=base_model.input, outputs=predictions)\n",
        "\n",
        "# Compile\n",
        "model.compile(optimizer=Adam(learning_rate=0.0005), loss='categorical_crossentropy', metrics=['accuracy'])\n",
        "\n",
        "# Early Stopping\n",
        "early_stop = EarlyStopping(patience=5, restore_best_weights=True)\n",
        "\n",
        "# Training ulang dengan model yang lebih kuat\n",
        "history = model.fit(\n",
        "    train_data,\n",
        "    validation_data=val_data,\n",
        "    epochs=20,\n",
        "    callbacks=[early_stop]\n",
        ")"
      ],
      "metadata": {
        "colab": {
          "base_uri": "https://localhost:8080/"
        },
        "id": "GVv7hkzo2P5M",
        "outputId": "d51ac6b7-6d3b-4ff3-b583-8df58f5ab8c8"
      },
      "execution_count": 43,
      "outputs": [
        {
          "output_type": "stream",
          "name": "stderr",
          "text": [
            "/usr/local/lib/python3.11/dist-packages/PIL/Image.py:1043: UserWarning: Palette images with Transparency expressed in bytes should be converted to RGBA images\n",
            "  warnings.warn(\n"
          ]
        },
        {
          "output_type": "stream",
          "name": "stdout",
          "text": [
            "Epoch 1/20\n",
            "\u001b[1m111/111\u001b[0m \u001b[32m━━━━━━━━━━━━━━━━━━━━\u001b[0m\u001b[37m\u001b[0m \u001b[1m300s\u001b[0m 3s/step - accuracy: 0.7822 - loss: 0.5751 - val_accuracy: 0.9387 - val_loss: 0.1681\n",
            "Epoch 2/20\n",
            "\u001b[1m111/111\u001b[0m \u001b[32m━━━━━━━━━━━━━━━━━━━━\u001b[0m\u001b[37m\u001b[0m \u001b[1m270s\u001b[0m 2s/step - accuracy: 0.9138 - loss: 0.2030 - val_accuracy: 0.9398 - val_loss: 0.1656\n",
            "Epoch 3/20\n",
            "\u001b[1m111/111\u001b[0m \u001b[32m━━━━━━━━━━━━━━━━━━━━\u001b[0m\u001b[37m\u001b[0m \u001b[1m317s\u001b[0m 2s/step - accuracy: 0.9354 - loss: 0.1645 - val_accuracy: 0.9296 - val_loss: 0.1616\n",
            "Epoch 4/20\n",
            "\u001b[1m111/111\u001b[0m \u001b[32m━━━━━━━━━━━━━━━━━━━━\u001b[0m\u001b[37m\u001b[0m \u001b[1m262s\u001b[0m 2s/step - accuracy: 0.9408 - loss: 0.1515 - val_accuracy: 0.9580 - val_loss: 0.1270\n",
            "Epoch 5/20\n",
            "\u001b[1m111/111\u001b[0m \u001b[32m━━━━━━━━━━━━━━━━━━━━\u001b[0m\u001b[37m\u001b[0m \u001b[1m260s\u001b[0m 2s/step - accuracy: 0.9509 - loss: 0.1252 - val_accuracy: 0.9319 - val_loss: 0.1704\n",
            "Epoch 6/20\n",
            "\u001b[1m111/111\u001b[0m \u001b[32m━━━━━━━━━━━━━━━━━━━━\u001b[0m\u001b[37m\u001b[0m \u001b[1m288s\u001b[0m 3s/step - accuracy: 0.9557 - loss: 0.1126 - val_accuracy: 0.9308 - val_loss: 0.1747\n",
            "Epoch 7/20\n",
            "\u001b[1m111/111\u001b[0m \u001b[32m━━━━━━━━━━━━━━━━━━━━\u001b[0m\u001b[37m\u001b[0m \u001b[1m260s\u001b[0m 2s/step - accuracy: 0.9655 - loss: 0.0931 - val_accuracy: 0.9512 - val_loss: 0.1262\n",
            "Epoch 8/20\n",
            "\u001b[1m111/111\u001b[0m \u001b[32m━━━━━━━━━━━━━━━━━━━━\u001b[0m\u001b[37m\u001b[0m \u001b[1m263s\u001b[0m 2s/step - accuracy: 0.9685 - loss: 0.0923 - val_accuracy: 0.9432 - val_loss: 0.1530\n",
            "Epoch 9/20\n",
            "\u001b[1m111/111\u001b[0m \u001b[32m━━━━━━━━━━━━━━━━━━━━\u001b[0m\u001b[37m\u001b[0m \u001b[1m267s\u001b[0m 2s/step - accuracy: 0.9744 - loss: 0.0725 - val_accuracy: 0.9512 - val_loss: 0.1368\n",
            "Epoch 10/20\n",
            "\u001b[1m111/111\u001b[0m \u001b[32m━━━━━━━━━━━━━━━━━━━━\u001b[0m\u001b[37m\u001b[0m \u001b[1m264s\u001b[0m 2s/step - accuracy: 0.9774 - loss: 0.0641 - val_accuracy: 0.9432 - val_loss: 0.1536\n",
            "Epoch 11/20\n",
            "\u001b[1m111/111\u001b[0m \u001b[32m━━━━━━━━━━━━━━━━━━━━\u001b[0m\u001b[37m\u001b[0m \u001b[1m260s\u001b[0m 2s/step - accuracy: 0.9738 - loss: 0.0808 - val_accuracy: 0.9489 - val_loss: 0.1436\n",
            "Epoch 12/20\n",
            "\u001b[1m111/111\u001b[0m \u001b[32m━━━━━━━━━━━━━━━━━━━━\u001b[0m\u001b[37m\u001b[0m \u001b[1m263s\u001b[0m 2s/step - accuracy: 0.9761 - loss: 0.0711 - val_accuracy: 0.9467 - val_loss: 0.1477\n"
          ]
        }
      ]
    },
    {
      "cell_type": "markdown",
      "source": [],
      "metadata": {
        "id": "0VbN3w-rbKEl"
      }
    },
    {
      "cell_type": "markdown",
      "source": [
        "**4. 🏋️‍♀️ Training Model**"
      ],
      "metadata": {
        "id": "fw5MYdRp-xak"
      }
    },
    {
      "cell_type": "code",
      "source": [
        "# Unfreeze sebagian layer akhir untuk fine-tuning\n",
        "base_model.trainable = True\n",
        "for layer in base_model.layers[:-30]:  # hanya fine-tune 30 layer terakhir\n",
        "    layer.trainable = False\n",
        "\n",
        "# Compile ulang model dengan learning rate lebih kecil\n",
        "model.compile(optimizer=Adam(learning_rate=1e-5), loss='categorical_crossentropy', metrics=['accuracy'])\n",
        "\n",
        "# Lanjutkan training dengan fine-tuning\n",
        "history_finetune = model.fit(\n",
        "    train_data,\n",
        "    validation_data=val_data,\n",
        "    epochs=10,\n",
        "    callbacks=[early_stop]\n",
        ")"
      ],
      "metadata": {
        "colab": {
          "base_uri": "https://localhost:8080/"
        },
        "id": "p4UKe95A9SkZ",
        "outputId": "afc76398-0331-42ad-dfaa-c8e6d3d7c2f2"
      },
      "execution_count": 44,
      "outputs": [
        {
          "output_type": "stream",
          "name": "stdout",
          "text": [
            "Epoch 1/10\n",
            "\u001b[1m111/111\u001b[0m \u001b[32m━━━━━━━━━━━━━━━━━━━━\u001b[0m\u001b[37m\u001b[0m \u001b[1m349s\u001b[0m 3s/step - accuracy: 0.8499 - loss: 0.4331 - val_accuracy: 0.9659 - val_loss: 0.1117\n",
            "Epoch 2/10\n",
            "\u001b[1m111/111\u001b[0m \u001b[32m━━━━━━━━━━━━━━━━━━━━\u001b[0m\u001b[37m\u001b[0m \u001b[1m377s\u001b[0m 3s/step - accuracy: 0.9377 - loss: 0.1738 - val_accuracy: 0.9591 - val_loss: 0.1107\n",
            "Epoch 3/10\n",
            "\u001b[1m111/111\u001b[0m \u001b[32m━━━━━━━━━━━━━━━━━━━━\u001b[0m\u001b[37m\u001b[0m \u001b[1m331s\u001b[0m 3s/step - accuracy: 0.9415 - loss: 0.1619 - val_accuracy: 0.9557 - val_loss: 0.1174\n",
            "Epoch 4/10\n",
            "\u001b[1m111/111\u001b[0m \u001b[32m━━━━━━━━━━━━━━━━━━━━\u001b[0m\u001b[37m\u001b[0m \u001b[1m325s\u001b[0m 3s/step - accuracy: 0.9502 - loss: 0.1359 - val_accuracy: 0.9478 - val_loss: 0.1274\n",
            "Epoch 5/10\n",
            "\u001b[1m111/111\u001b[0m \u001b[32m━━━━━━━━━━━━━━━━━━━━\u001b[0m\u001b[37m\u001b[0m \u001b[1m322s\u001b[0m 3s/step - accuracy: 0.9608 - loss: 0.1211 - val_accuracy: 0.9694 - val_loss: 0.1010\n",
            "Epoch 6/10\n",
            "\u001b[1m111/111\u001b[0m \u001b[32m━━━━━━━━━━━━━━━━━━━━\u001b[0m\u001b[37m\u001b[0m \u001b[1m326s\u001b[0m 3s/step - accuracy: 0.9611 - loss: 0.1098 - val_accuracy: 0.9694 - val_loss: 0.1029\n",
            "Epoch 7/10\n",
            "\u001b[1m111/111\u001b[0m \u001b[32m━━━━━━━━━━━━━━━━━━━━\u001b[0m\u001b[37m\u001b[0m \u001b[1m326s\u001b[0m 3s/step - accuracy: 0.9631 - loss: 0.0998 - val_accuracy: 0.9716 - val_loss: 0.0895\n",
            "Epoch 8/10\n",
            "\u001b[1m111/111\u001b[0m \u001b[32m━━━━━━━━━━━━━━━━━━━━\u001b[0m\u001b[37m\u001b[0m \u001b[1m328s\u001b[0m 3s/step - accuracy: 0.9770 - loss: 0.0809 - val_accuracy: 0.9671 - val_loss: 0.0987\n",
            "Epoch 9/10\n",
            "\u001b[1m111/111\u001b[0m \u001b[32m━━━━━━━━━━━━━━━━━━━━\u001b[0m\u001b[37m\u001b[0m \u001b[1m325s\u001b[0m 3s/step - accuracy: 0.9764 - loss: 0.0835 - val_accuracy: 0.9614 - val_loss: 0.1121\n",
            "Epoch 10/10\n",
            "\u001b[1m111/111\u001b[0m \u001b[32m━━━━━━━━━━━━━━━━━━━━\u001b[0m\u001b[37m\u001b[0m \u001b[1m329s\u001b[0m 3s/step - accuracy: 0.9745 - loss: 0.0740 - val_accuracy: 0.9659 - val_loss: 0.1014\n"
          ]
        }
      ]
    },
    {
      "cell_type": "markdown",
      "source": [
        "**5. 📊 Evaluasi Model**\n",
        "\n",
        "*   Prediksi data validasi\n",
        "*   Confusion Matrix\n",
        "*   Classification Report\n",
        "*   Accuracy Score\n",
        "\n"
      ],
      "metadata": {
        "id": "ldLE2kuW-3Cj"
      }
    },
    {
      "cell_type": "code",
      "source": [
        "from sklearn.metrics import classification_report, confusion_matrix, accuracy_score\n",
        "import numpy as np\n",
        "import seaborn as sns\n",
        "import matplotlib.pyplot as plt\n",
        "\n",
        "# Prediksi di data validasi\n",
        "Y_pred = model.predict(val_data)\n",
        "y_pred = np.argmax(Y_pred, axis=1)\n",
        "\n",
        "# Tampilkan Confusion Matrix\n",
        "cm = confusion_matrix(val_data.classes, y_pred)\n",
        "plt.figure(figsize=(8,6))\n",
        "sns.heatmap(cm, annot=True, fmt='d', xticklabels=val_data.class_indices.keys(), yticklabels=val_data.class_indices.keys())\n",
        "plt.title(\"Confusion Matrix\")\n",
        "plt.show()\n",
        "\n",
        "# Classification Report\n",
        "print(classification_report(val_data.classes, y_pred, target_names=val_data.class_indices.keys()))\n",
        "\n",
        "# Accuracy Score\n",
        "accuracy = accuracy_score(val_data.classes, y_pred)\n",
        "print(f\"Accuracy Score: {accuracy * 100:.2f}%\")"
      ],
      "metadata": {
        "colab": {
          "base_uri": "https://localhost:8080/",
          "height": 788
        },
        "id": "p6Vzq6Yh2VIc",
        "outputId": "bf0e1c4c-a042-4fd8-cb20-f09ccfee25c4"
      },
      "execution_count": 45,
      "outputs": [
        {
          "output_type": "stream",
          "name": "stdout",
          "text": [
            "\u001b[1m28/28\u001b[0m \u001b[32m━━━━━━━━━━━━━━━━━━━━\u001b[0m\u001b[37m\u001b[0m \u001b[1m65s\u001b[0m 2s/step\n"
          ]
        },
        {
          "output_type": "display_data",
          "data": {
            "text/plain": [
              "<Figure size 800x600 with 2 Axes>"
            ],
            "image/png": "[encoded data removed]"
          },
          "metadata": {}
        },
        {
          "output_type": "stream",
          "name": "stdout",
          "text": [
            "              precision    recall  f1-score   support\n",
            "\n",
            "       Bikes       0.16      0.16      0.16       160\n",
            "         Bus       0.05      0.04      0.05        89\n",
            "        Cars       0.26      0.26      0.26       251\n",
            " Motorcycles       0.30      0.29      0.29       255\n",
            "       Truck       0.11      0.13      0.12       126\n",
            "\n",
            "    accuracy                           0.21       881\n",
            "   macro avg       0.18      0.18      0.18       881\n",
            "weighted avg       0.21      0.21      0.21       881\n",
            "\n",
            "Accuracy Score: 21.00%\n"
          ]
        }
      ]
    },
    {
      "cell_type": "markdown",
      "source": [
        "**6. 🖼 Upload Gambar Kendaraan untuk Diuji**"
      ],
      "metadata": {
        "id": "GKCXCSb3_D_W"
      }
    },
    {
      "cell_type": "code",
      "source": [
        "# Uji Parkir dengan Upload Gambar Kendaraan\n",
        "from tensorflow.keras.preprocessing import image\n",
        "uploaded = files.upload()"
      ],
      "metadata": {
        "colab": {
          "base_uri": "https://localhost:8080/",
          "height": 73
        },
        "id": "bg003cnBANZe",
        "outputId": "81cae037-8387-4157-a7da-67f6f9168ed5"
      },
      "execution_count": 46,
      "outputs": [
        {
          "output_type": "display_data",
          "data": {
            "text/plain": [
              "<IPython.core.display.HTML object>"
            ],
            "text/html": [
              "\n",
              "     <input type=\"file\" id=\"files-22318cab-0571-4b0e-a301-7a0ed9722476\" name=\"files[]\" multiple disabled\n",
              "        style=\"border:none\" />\n",
              "     <output id=\"result-22318cab-0571-4b0e-a301-7a0ed9722476\">\n",
              "      Upload widget is only available when the cell has been executed in the\n",
              "      current browser session. Please rerun this cell to enable.\n",
              "      </output>\n",
              "      <script>// Copyright 2017 Google LLC\n",
              "//\n",
              "// Licensed under the Apache License, Version 2.0 (the \"License\");\n",
              "// you may not use this file except in compliance with the License.\n",
              "// You may obtain a copy of the License at\n",
              "//\n",
              "//      http://www.apache.org/licenses/LICENSE-2.0\n",
              "//\n",
              "// Unless required by applicable law or agreed to in writing, software\n",
              "// distributed under the License is distributed on an \"AS IS\" BASIS,\n",
              "// WITHOUT WARRANTIES OR CONDITIONS OF ANY KIND, either express or implied.\n",
              "// See the License for the specific language governing permissions and\n",
              "// limitations under the License.\n",
              "\n",
              "/**\n",
              " * @fileoverview Helpers for google.colab Python module.\n",
              " */\n",
              "(function(scope) {\n",
              "function span(text, styleAttributes = {}) {\n",
              "  const element = document.createElement('span');\n",
              "  element.textContent = text;\n",
              "  for (const key of Object.keys(styleAttributes)) {\n",
              "    element.style[key] = styleAttributes[key];\n",
              "  }\n",
              "  return element;\n",
              "}\n",
              "\n",
              "// Max number of bytes which will be uploaded at a time.\n",
              "const MAX_PAYLOAD_SIZE = 100 * 1024;\n",
              "\n",
              "function _uploadFiles(inputId, outputId) {\n",
              "  const steps = uploadFilesStep(inputId, outputId);\n",
              "  const outputElement = document.getElementById(outputId);\n",
              "  // Cache steps on the outputElement to make it available for the next call\n",
              "  // to uploadFilesContinue from Python.\n",
              "  outputElement.steps = steps;\n",
              "\n",
              "  return _uploadFilesContinue(outputId);\n",
              "}\n",
              "\n",
              "// This is roughly an async generator (not supported in the browser yet),\n",
              "// where there are multiple asynchronous steps and the Python side is going\n",
              "// to poll for completion of each step.\n",
              "// This uses a Promise to block the python side on completion of each step,\n",
              "// then passes the result of the previous step as the input to the next step.\n",
              "function _uploadFilesContinue(outputId) {\n",
              "  const outputElement = document.getElementById(outputId);\n",
              "  const steps = outputElement.steps;\n",
              "\n",
              "  const next = steps.next(outputElement.lastPromiseValue);\n",
              "  return Promise.resolve(next.value.promise).then((value) => {\n",
              "    // Cache the last promise value to make it available to the next\n",
              "    // step of the generator.\n",
              "    outputElement.lastPromiseValue = value;\n",
              "    return next.value.response;\n",
              "  });\n",
              "}\n",
              "\n",
              "/**\n",
              " * Generator function which is called between each async step of the upload\n",
              " * process.\n",
              " * @param {string} inputId Element ID of the input file picker element.\n",
              " * @param {string} outputId Element ID of the output display.\n",
              " * @return {!Iterable<!Object>} Iterable of next steps.\n",
              " */\n",
              "function* uploadFilesStep(inputId, outputId) {\n",
              "  const inputElement = document.getElementById(inputId);\n",
              "  inputElement.disabled = false;\n",
              "\n",
              "  const outputElement = document.getElementById(outputId);\n",
              "  outputElement.innerHTML = '';\n",
              "\n",
              "  const pickedPromise = new Promise((resolve) => {\n",
              "    inputElement.addEventListener('change', (e) => {\n",
              "      resolve(e.target.files);\n",
              "    });\n",
              "  });\n",
              "\n",
              "  const cancel = document.createElement('button');\n",
              "  inputElement.parentElement.appendChild(cancel);\n",
              "  cancel.textContent = 'Cancel upload';\n",
              "  const cancelPromise = new Promise((resolve) => {\n",
              "    cancel.onclick = () => {\n",
              "      resolve(null);\n",
              "    };\n",
              "  });\n",
              "\n",
              "  // Wait for the user to pick the files.\n",
              "  const files = yield {\n",
              "    promise: Promise.race([pickedPromise, cancelPromise]),\n",
              "    response: {\n",
              "      action: 'starting',\n",
              "    }\n",
              "  };\n",
              "\n",
              "  cancel.remove();\n",
              "\n",
              "  // Disable the input element since further picks are not allowed.\n",
              "  inputElement.disabled = true;\n",
              "\n",
              "  if (!files) {\n",
              "    return {\n",
              "      response: {\n",
              "        action: 'complete',\n",
              "      }\n",
              "    };\n",
              "  }\n",
              "\n",
              "  for (const file of files) {\n",
              "    const li = document.createElement('li');\n",
              "    li.append(span(file.name, {fontWeight: 'bold'}));\n",
              "    li.append(span(\n",
              "        `(${file.type || 'n/a'}) - ${file.size} bytes, ` +\n",
              "        `last modified: ${\n",
              "            file.lastModifiedDate ? file.lastModifiedDate.toLocaleDateString() :\n",
              "                                    'n/a'} - `));\n",
              "    const percent = span('0% done');\n",
              "    li.appendChild(percent);\n",
              "\n",
              "    outputElement.appendChild(li);\n",
              "\n",
              "    const fileDataPromise = new Promise((resolve) => {\n",
              "      const reader = new FileReader();\n",
              "      reader.onload = (e) => {\n",
              "        resolve(e.target.result);\n",
              "      };\n",
              "      reader.readAsArrayBuffer(file);\n",
              "    });\n",
              "    // Wait for the data to be ready.\n",
              "    let fileData = yield {\n",
              "      promise: fileDataPromise,\n",
              "      response: {\n",
              "        action: 'continue',\n",
              "      }\n",
              "    };\n",
              "\n",
              "    // Use a chunked sending to avoid message size limits. See b/62115660.\n",
              "    let position = 0;\n",
              "    do {\n",
              "      const length = Math.min(fileData.byteLength - position, MAX_PAYLOAD_SIZE);\n",
              "      const chunk = new Uint8Array(fileData, position, length);\n",
              "      position += length;\n",
              "\n",
              "      const base64 = btoa(String.fromCharCode.apply(null, chunk));\n",
              "      yield {\n",
              "        response: {\n",
              "          action: 'append',\n",
              "          file: file.name,\n",
              "          data: base64,\n",
              "        },\n",
              "      };\n",
              "\n",
              "      let percentDone = fileData.byteLength === 0 ?\n",
              "          100 :\n",
              "          Math.round((position / fileData.byteLength) * 100);\n",
              "      percent.textContent = `${percentDone}% done`;\n",
              "\n",
              "    } while (position < fileData.byteLength);\n",
              "  }\n",
              "\n",
              "  // All done.\n",
              "  yield {\n",
              "    response: {\n",
              "      action: 'complete',\n",
              "    }\n",
              "  };\n",
              "}\n",
              "\n",
              "scope.google = scope.google || {};\n",
              "scope.google.colab = scope.google.colab || {};\n",
              "scope.google.colab._files = {\n",
              "  _uploadFiles,\n",
              "  _uploadFilesContinue,\n",
              "};\n",
              "})(self);\n",
              "</script> "
            ]
          },
          "metadata": {}
        },
        {
          "output_type": "stream",
          "name": "stdout",
          "text": [
            "Saving mobil_test.png to mobil_test.png\n"
          ]
        }
      ]
    },
    {
      "cell_type": "markdown",
      "source": [
        "**7. 🅿️ Deteksi Kendaraan + Simulasi Parkir Realistis**\n",
        "\n",
        "*   Deteksi gambar kendaraan\n",
        "*   Tampilkan informasi parkir kendaraan\n",
        "*   Simulasi parkir kendaraan dan pembayaran\n",
        "*   Logging Data ke file CSV\n"
      ],
      "metadata": {
        "id": "8H6Y6w-IARG4"
      }
    },
    {
      "cell_type": "code",
      "source": [
        "import pandas as pd\n",
        "from datetime import datetime\n",
        "import os\n",
        "from tensorflow.keras.preprocessing import image\n",
        "import numpy as np\n",
        "from google.colab import files # Assuming files was imported in a previous cell\n",
        "\n",
        "#Info parkir berdasarkan jenis kendaraan\n",
        "info_parkir = {\n",
        "    'Bus': {\"tarif\": 15000, \"lantai\": \"1 & 2\", \"area\": \"C1–C4 & B1–B6\"},\n",
        "    'Cars': {\"tarif\": 8000, \"lantai\": \"2 & 3\", \"area\": \"B7–A10 & A1–A6\"},\n",
        "    'Truck': {\"tarif\": 10000, \"lantai\": \"1\", \"area\": \"C5–C8\"},\n",
        "    'Bikes': {\"tarif\": 1000, \"lantai\": \"1\", \"area\": \"C9–C10\"},\n",
        "    'Motorcycles': {\"tarif\": 3000, \"lantai\": \"B1 & B2\", \"area\": \"D1–D10 & E1–E10\"}\n",
        "}\n",
        "\n",
        "#Deteksi gambar kendaraan & tampilkan informasi parkir\n",
        "for fn in uploaded.keys():\n",
        "\n",
        "    # Preprocessing gambar\n",
        "    img = image.load_img(fn, target_size=image_size)\n",
        "    img_array = image.img_to_array(img) / 255.0\n",
        "    img_array = np.expand_dims(img_array, axis=0)\n",
        "\n",
        "    # Prediksi jenis kendaraan\n",
        "    prediction = model.predict(img_array)\n",
        "    class_index = np.argmax(prediction)\n",
        "    class_label = list(train_data.class_indices.keys())[class_index]\n",
        "\n",
        "    # Tampilkan info hasil deteksi\n",
        "    print(f\"\\n🔍 Jenis Kendaraan Terdeteksi: {class_label}\")\n",
        "    print(f\"📍 Lantai: {info_parkir[class_label]['lantai']}\")\n",
        "    print(f\"📍 Area: {info_parkir[class_label]['area']}\")\n",
        "    print(f\"💰 Tarif Parkir: Rp{info_parkir[class_label]['tarif']}/jam\")\n",
        "\n",
        "    # Input waktu masuk & keluar\n",
        "    tanggal_masuk = input(\"📅 Masukkan tanggal masuk (format: YYYY-MM-DD): \")\n",
        "    jam_masuk = input(\"⏱ Masukkan waktu masuk (format: HH:MM, contoh: 08:00): \")\n",
        "\n",
        "    tanggal_keluar = input(\"📅 Masukkan tanggal keluar (format: YYYY-MM-DD): \")\n",
        "    jam_keluar = input(\"⏱ Masukkan waktu keluar (format: HH:MM, contoh: 10:15): \")\n",
        "\n",
        "    # Hitung durasi (dalam jam)\n",
        "    t1 = datetime.strptime(f\"{tanggal_masuk} {jam_masuk}\", \"%Y-%m-%d %H:%M\")\n",
        "    t2 = datetime.strptime(f\"{tanggal_keluar} {jam_keluar}\", \"%Y-%m-%d %H:%M\")\n",
        "    # Call the total_seconds method by adding ()\n",
        "    durasi = (t2 - t1).total_seconds() / 3600\n",
        "    durasi_jam = max(1, round(durasi))  # dibulatkan ke atas min 1 jam\n",
        "\n",
        "    # Hitung total tarif parkir\n",
        "    tarif_per_jam = info_parkir[class_label]['tarif']\n",
        "    total = tarif_per_jam * durasi_jam\n",
        "\n",
        "    # Output durasi & biaya parkir\n",
        "    print(f\"🕓 Durasi Parkir: {durasi_jam} jam\")\n",
        "    print(f\"💸 Total Tarif: Rp{total}\")\n",
        "\n",
        "    # Proses pembayaran\n",
        "    bayar = int(input(\"💵 Masukkan jumlah uang yang dibayar (misal 20000): \"))\n",
        "    kembali = bayar - total\n",
        "    print(f\"💳 Kembalian: Rp{kembali}\")\n",
        "\n",
        "    # Buat log dictionary ke CSV harian\n",
        "    log_data = {\n",
        "        \"tanggal_masuk\": tanggal_masuk,\n",
        "        \"jam_masuk\": jam_masuk,\n",
        "        \"tanggal_keluar\": tanggal_keluar,\n",
        "        \"jam_keluar\": jam_keluar,\n",
        "        \"kendaraan\": class_label,\n",
        "        \"durasi_jam\": durasi_jam,\n",
        "        \"total_tarif\": total,\n",
        "        \"dibayar\": bayar,\n",
        "        \"kembalian\": kembali,\n",
        "        \"waktu_input\": datetime.now().strftime(\"%Y-%m-%d %H:%M:%S\")\n",
        "    }\n",
        "\n",
        "    # Konversi ke DataFrame\n",
        "    df_log = pd.DataFrame([log_data])\n",
        "\n",
        "    # Buat nama file berdasarkan tanggal masuk\n",
        "    # Corrected: use 'tanggal_masuk' from log_data instead of 'tanggal'\n",
        "    log_filename = f\"log_parkir_{log_data['tanggal_masuk']}.csv\"\n",
        "\n",
        "    # Simpan ke file log harian\n",
        "    df_log.to_csv(log_filename, mode='a', header=not os.path.exists(log_filename), index=False)\n",
        "\n",
        "    print(f\"📝 Data parkir disimpan ke {log_filename}\")"
      ],
      "metadata": {
        "colab": {
          "base_uri": "https://localhost:8080/"
        },
        "id": "n9lOlH12AWtj",
        "outputId": "455ca406-4d2f-40b8-db36-8ec986dc253e"
      },
      "execution_count": 49,
      "outputs": [
        {
          "output_type": "stream",
          "name": "stdout",
          "text": [
            "\u001b[1m1/1\u001b[0m \u001b[32m━━━━━━━━━━━━━━━━━━━━\u001b[0m\u001b[37m\u001b[0m \u001b[1m0s\u001b[0m 84ms/step\n",
            "\n",
            "🔍 Jenis Kendaraan Terdeteksi: Cars\n",
            "📍 Lantai: 2 & 3\n",
            "📍 Area: B7–A10 & A1–A6\n",
            "💰 Tarif Parkir: Rp8000/jam\n",
            "📅 Masukkan tanggal masuk (format: YYYY-MM-DD): 2025-06-10\n",
            "⏱ Masukkan waktu masuk (format: HH:MM, contoh: 08:00): 10:37\n",
            "📅 Masukkan tanggal keluar (format: YYYY-MM-DD): 2025-06-10\n",
            "⏱ Masukkan waktu keluar (format: HH:MM, contoh: 10:15): 16:57\n",
            "🕓 Durasi Parkir: 6 jam\n",
            "💸 Total Tarif: Rp48000\n",
            "💵 Masukkan jumlah uang yang dibayar (misal 20000): 50000\n",
            "💳 Kembalian: Rp2000\n",
            "📝 Data parkir disimpan ke log_parkir_2025-06-10.csv\n"
          ]
        }
      ]
    }
  ]
}