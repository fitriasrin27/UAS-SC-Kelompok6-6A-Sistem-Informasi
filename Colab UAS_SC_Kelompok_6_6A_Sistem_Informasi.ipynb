{
  "nbformat": 4,
  "nbformat_minor": 0,
  "metadata": {
    "colab": {
      "provenance": []
    },
    "kernelspec": {
      "name": "python3",
      "display_name": "Python 3"
    },
    "language_info": {
      "name": "python"
    }
  },
  "cells": [
    {
      "cell_type": "markdown",
      "source": [
        "# **Kode Program Klasifikasi Gambar + Sistem Parkir**"
      ],
      "metadata": {
        "id": "FDi5OQP68hlD"
      }
    },
    {
      "cell_type": "markdown",
      "source": [
        "**1. 🔼 Panggil Dataset dari Google Drive**\n",
        "\n",
        "*   Mount Google Drive\n",
        "*   Copy File dari Gdrive ke lokal Colab\n",
        "*   Ekstrak ZIP ke folder lokal Colab\n",
        "\n",
        "\n",
        "\n",
        "\n"
      ],
      "metadata": {
        "id": "C4PrX0EV8uLM"
      }
    },
    {
      "cell_type": "code",
      "execution_count": 10,
      "metadata": {
        "colab": {
          "base_uri": "https://localhost:8080/"
        },
        "id": "b-tC_JQt11ZA",
        "outputId": "77b3ce4b-343b-49b5-905e-0dbed069f1c6"
      },
      "outputs": [
        {
          "output_type": "stream",
          "name": "stdout",
          "text": [
            "Drive already mounted at /content/drive; to attempt to forcibly remount, call drive.mount(\"/content/drive\", force_remount=True).\n"
          ]
        }
      ],
      "source": [
        "from google.colab import drive\n",
        "import os\n",
        "\n",
        "# Mount Google Drive\n",
        "drive.mount('/content/drive')"
      ]
    },
    {
      "cell_type": "code",
      "source": [
        "# Copy file ZIP dari Google Drive ke lokal Colab\n",
        "import shutil\n",
        "\n",
        "zip_source = \"/content/drive/MyDrive/Dataset & Google Colab UAS SC/Parkir Jenis Kendaraan (2).zip\"\n",
        "zip_dest = \"/content/dataset_kendaraan.zip\"\n",
        "\n",
        "shutil.copy(zip_source, zip_dest)"
      ],
      "metadata": {
        "colab": {
          "base_uri": "https://localhost:8080/",
          "height": 36
        },
        "id": "vNf-JgeHvH_I",
        "outputId": "3f431d31-d470-424c-c0ba-3d8a4411af19"
      },
      "execution_count": 20,
      "outputs": [
        {
          "output_type": "execute_result",
          "data": {
            "text/plain": [
              "'/content/dataset_kendaraan.zip'"
            ],
            "application/vnd.google.colaboratory.intrinsic+json": {
              "type": "string"
            }
          },
          "metadata": {},
          "execution_count": 20
        }
      ]
    },
    {
      "cell_type": "code",
      "source": [
        "# Ekstrak ZIP ke folder lokal Colab\n",
        "import zipfile, os\n",
        "\n",
        "extract_path = \"/content/dataset_kendaraan\"\n",
        "os.makedirs(extract_path, exist_ok=True)\n",
        "\n",
        "with zipfile.ZipFile(zip_dest, 'r') as zip_ref:\n",
        "    zip_ref.extractall(extract_path)\n",
        "\n",
        "print(\"✅ Ekstraksi selesai. Isi folder:\")\n",
        "print(os.listdir(extract_path))\n"
      ],
      "metadata": {
        "colab": {
          "base_uri": "https://localhost:8080/"
        },
        "id": "9IaZrxr6yUPL",
        "outputId": "ce0f5efe-63f2-4bd0-b0ed-91089464f253"
      },
      "execution_count": 21,
      "outputs": [
        {
          "output_type": "stream",
          "name": "stdout",
          "text": [
            "✅ Ekstraksi selesai. Isi folder:\n",
            "['Parkir Jenis Kendaraan']\n"
          ]
        }
      ]
    },
    {
      "cell_type": "markdown",
      "source": [
        "**2. 🧹 Preprocessing Data (Augmentasi + Normalisasi)**\n",
        "\n",
        "*   Data Cleaning\n",
        "*   Ukuran gambar model\n",
        "*   Objek ImageDataGenerator\n",
        "*   Data training\n",
        "*   Data validation\n",
        "\n",
        "\n",
        "\n"
      ],
      "metadata": {
        "id": "5Pt5cF-A-Amg"
      }
    },
    {
      "cell_type": "code",
      "source": [
        "import os\n",
        "from PIL import Image\n",
        "\n",
        "# Fungsi untuk menghapus gambar yang rusak atau terpotong (truncated)\n",
        "def delete_truncated_images(directory):\n",
        "    count_deleted = 0\n",
        "    print(f\"🔎 Memulai pengecekan dan penghapusan gambar rusak di: {directory}\")\n",
        "\n",
        "    # Iterasi melalui semua file di direktori dan subdirektorinya\n",
        "    for root, _, files in os.walk(directory):\n",
        "        for file in files:\n",
        "            # Periksa apakah file adalah gambar (jpg, jpeg, png)\n",
        "            if file.lower().endswith(('.jpg', '.jpeg', '.png')):\n",
        "                filepath = os.path.join(root, file)\n",
        "                try:\n",
        "                    # Buka dan muat gambar untuk mendeteksi kerusakan\n",
        "                    with Image.open(filepath) as img:\n",
        "                        img.load()\n",
        "                except (IOError, SyntaxError) as e:\n",
        "                    # Jika gambar rusak, hapus file tersebut\n",
        "                    print(f\"Menghapus gambar rusak: {filepath} - Error: {e}\")\n",
        "                    try:\n",
        "                        os.remove(filepath)\n",
        "                        count_deleted += 1\n",
        "                    except OSError as remove_error:\n",
        "                        print(f\"Error removing file {filepath}: {remove_error}\")\n",
        "\n",
        "    # Laporkan hasil penghapusan gambar\n",
        "    if count_deleted == 0:\n",
        "        print(\"✅ Tidak ada gambar rusak yang ditemukan.\")\n",
        "    else:\n",
        "        print(f\"🗑️ Total gambar rusak yang dihapus: {count_deleted}\")\n",
        "\n",
        "# Panggil fungsi pembersihan untuk direktori dataset kendaraan\n",
        "dataset_directory = 'dataset_kendaraan/Parkir Jenis Kendaraan/Vehicles' # Path disesuaikan\n",
        "delete_truncated_images(dataset_directory)"
      ],
      "metadata": {
        "colab": {
          "base_uri": "https://localhost:8080/"
        },
        "id": "MyefCwt_brhZ",
        "outputId": "9bd3132e-bb7e-4873-e548-af00c513de4e"
      },
      "execution_count": 22,
      "outputs": [
        {
          "output_type": "stream",
          "name": "stdout",
          "text": [
            "🔎 Memulai pengecekan dan penghapusan gambar rusak di: dataset_kendaraan/Parkir Jenis Kendaraan/Vehicles\n",
            "Menghapus gambar rusak: dataset_kendaraan/Parkir Jenis Kendaraan/Vehicles/Truck/Datacluster Truck (123).jpg - Error: image file is truncated (8 bytes not processed)\n",
            "🗑️ Total gambar rusak yang dihapus: 1\n"
          ]
        }
      ]
    },
    {
      "cell_type": "markdown",
      "source": [
        "**Augmentasi Data**"
      ],
      "metadata": {
        "id": "ctVc3fkpNBsM"
      }
    },
    {
      "cell_type": "code",
      "source": [
        "from tensorflow.keras.preprocessing.image import ImageDataGenerator\n",
        "\n",
        "# Menentukan ukuran gambar yang digunakan oleh model dan ukuran batch\n",
        "image_size = (224, 224)\n",
        "batch_size = 32\n",
        "\n",
        "# Path ke folder dataset\n",
        "dataset_path = \"/content/dataset_kendaraan/Parkir Jenis Kendaraan/Vehicles\"\n",
        "\n",
        "# Membuat objek ImageDataGenerator untuk preprocessing dan augmentasi data\n",
        "datagen = ImageDataGenerator(\n",
        "    rescale=1./255,\n",
        "    rotation_range=15,\n",
        "    width_shift_range=0.1,\n",
        "    height_shift_range=0.1,\n",
        "    zoom_range=0.1,\n",
        "    horizontal_flip=True,\n",
        "    validation_split=0.2,\n",
        "    fill_mode='nearest'\n",
        ")\n",
        "\n",
        "# Membuat generator data training dari folder 'Vehicles'\n",
        "train_data = datagen.flow_from_directory(\n",
        "    dataset_path,\n",
        "    target_size=image_size,\n",
        "    batch_size=batch_size,\n",
        "    class_mode='categorical',\n",
        "    subset='training',\n",
        "    shuffle=True\n",
        ")\n",
        "\n",
        "# Membuat generator data validasi dari folder 'Vehicles'\n",
        "val_data = datagen.flow_from_directory(\n",
        "    dataset_path,\n",
        "    target_size=image_size,\n",
        "    batch_size=batch_size,\n",
        "    class_mode='categorical',\n",
        "    subset='validation',\n",
        "    shuffle=False\n",
        ")"
      ],
      "metadata": {
        "colab": {
          "base_uri": "https://localhost:8080/"
        },
        "id": "4TnImyhI1_J7",
        "outputId": "d80a0ad9-516e-4def-8bf8-994269966f81"
      },
      "execution_count": 40,
      "outputs": [
        {
          "output_type": "stream",
          "name": "stdout",
          "text": [
            "Found 1720 images belonging to 5 classes.\n",
            "Found 429 images belonging to 5 classes.\n"
          ]
        }
      ]
    },
    {
      "cell_type": "markdown",
      "source": [
        "**3. 🧠 Transfer Learning dengan MobileNetV2**\n",
        "\n",
        "*   MobileNet2 (Pretrained Model)\n",
        "*   Fine-Tuning (Layer Tambahan)\n",
        "*   Kompilasi Model\n",
        "\n",
        "\n",
        "\n"
      ],
      "metadata": {
        "id": "gtKQzmXE-fq2"
      }
    },
    {
      "cell_type": "code",
      "source": [
        "from tensorflow.keras.applications import MobileNetV2\n",
        "from tensorflow.keras.models import Model\n",
        "from tensorflow.keras.layers import Dense, GlobalAveragePooling2D\n",
        "from tensorflow.keras.optimizers import Adam\n",
        "from tensorflow.keras.layers import Dropout\n",
        "from tensorflow.keras.callbacks import EarlyStopping\n",
        "from tensorflow.keras.callbacks import ReduceLROnPlateau\n",
        "\n",
        "# Load base model MobileNetV2 tanpa top (fully connected layer)\n",
        "base_model = MobileNetV2(weights='imagenet', include_top=False, input_shape=(224, 224, 3))\n",
        "base_model.trainable = False  # Freeze layer bawaan agar cepat convergence\n",
        "\n",
        "# Tambahkan custom classification layer\n",
        "x = base_model.output\n",
        "x = GlobalAveragePooling2D()(x)\n",
        "x = Dense(128, activation='relu')(x)\n",
        "x = Dropout(0.5)(x)\n",
        "predictions = Dense(train_data.num_classes, activation='softmax')(x)\n",
        "\n",
        "# Buat model akhir\n",
        "model = Model(inputs=base_model.input, outputs=predictions)\n",
        "\n",
        "# Compile\n",
        "model.compile(optimizer=Adam(learning_rate=0.0006), loss='categorical_crossentropy', metrics=['accuracy'])\n",
        "\n",
        "# Early Stopping\n",
        "early_stop = EarlyStopping(patience=5, restore_best_weights=True)\n",
        "\n",
        "# Learning Rate Scheduler\n",
        "lr_schedule = ReduceLROnPlateau(\n",
        "    monitor='val_loss',\n",
        "    patience=3,          # Turunkan lr rate if val_loss tidak membaik\n",
        "    factor=0.2,          # Learning rate dikalikan 0.2\n",
        "    min_lr=1e-6          # Batas bawah learning rate\n",
        ")"
      ],
      "metadata": {
        "id": "GVv7hkzo2P5M"
      },
      "execution_count": 48,
      "outputs": []
    },
    {
      "cell_type": "markdown",
      "source": [],
      "metadata": {
        "id": "0VbN3w-rbKEl"
      }
    },
    {
      "cell_type": "markdown",
      "source": [
        "**4. 🏋️‍♀️ Training Model**"
      ],
      "metadata": {
        "id": "fw5MYdRp-xak"
      }
    },
    {
      "cell_type": "code",
      "source": [
        "# Training ulang dengan model yang lebih kuat\n",
        "history = model.fit(\n",
        "    train_data,\n",
        "    validation_data=val_data,\n",
        "    epochs=30,\n",
        "    callbacks=[early_stop, lr_schedule]\n",
        ")"
      ],
      "metadata": {
        "colab": {
          "base_uri": "https://localhost:8080/"
        },
        "id": "p4UKe95A9SkZ",
        "outputId": "26de77a7-cb4e-4998-bc6c-f9fc45dde994"
      },
      "execution_count": 49,
      "outputs": [
        {
          "output_type": "stream",
          "name": "stdout",
          "text": [
            "Epoch 1/30\n",
            "\u001b[1m 8/54\u001b[0m \u001b[32m━━\u001b[0m\u001b[37m━━━━━━━━━━━━━━━━━━\u001b[0m \u001b[1m1:41\u001b[0m 2s/step - accuracy: 0.2411 - loss: 2.0154"
          ]
        },
        {
          "output_type": "stream",
          "name": "stderr",
          "text": [
            "/usr/local/lib/python3.11/dist-packages/PIL/Image.py:1043: UserWarning: Palette images with Transparency expressed in bytes should be converted to RGBA images\n",
            "  warnings.warn(\n"
          ]
        },
        {
          "output_type": "stream",
          "name": "stdout",
          "text": [
            "\u001b[1m54/54\u001b[0m \u001b[32m━━━━━━━━━━━━━━━━━━━━\u001b[0m\u001b[37m\u001b[0m \u001b[1m157s\u001b[0m 3s/step - accuracy: 0.5653 - loss: 1.1525 - val_accuracy: 0.9161 - val_loss: 0.2575 - learning_rate: 6.0000e-04\n",
            "Epoch 2/30\n",
            "\u001b[1m54/54\u001b[0m \u001b[32m━━━━━━━━━━━━━━━━━━━━\u001b[0m\u001b[37m\u001b[0m \u001b[1m147s\u001b[0m 3s/step - accuracy: 0.8308 - loss: 0.4127 - val_accuracy: 0.9161 - val_loss: 0.2295 - learning_rate: 6.0000e-04\n",
            "Epoch 3/30\n",
            "\u001b[1m54/54\u001b[0m \u001b[32m━━━━━━━━━━━━━━━━━━━━\u001b[0m\u001b[37m\u001b[0m \u001b[1m145s\u001b[0m 3s/step - accuracy: 0.8784 - loss: 0.3249 - val_accuracy: 0.9371 - val_loss: 0.1838 - learning_rate: 6.0000e-04\n",
            "Epoch 4/30\n",
            "\u001b[1m54/54\u001b[0m \u001b[32m━━━━━━━━━━━━━━━━━━━━\u001b[0m\u001b[37m\u001b[0m \u001b[1m152s\u001b[0m 3s/step - accuracy: 0.9097 - loss: 0.2607 - val_accuracy: 0.9417 - val_loss: 0.1634 - learning_rate: 6.0000e-04\n",
            "Epoch 5/30\n",
            "\u001b[1m54/54\u001b[0m \u001b[32m━━━━━━━━━━━━━━━━━━━━\u001b[0m\u001b[37m\u001b[0m \u001b[1m147s\u001b[0m 3s/step - accuracy: 0.9008 - loss: 0.2549 - val_accuracy: 0.9044 - val_loss: 0.2147 - learning_rate: 6.0000e-04\n",
            "Epoch 6/30\n",
            "\u001b[1m54/54\u001b[0m \u001b[32m━━━━━━━━━━━━━━━━━━━━\u001b[0m\u001b[37m\u001b[0m \u001b[1m150s\u001b[0m 3s/step - accuracy: 0.9222 - loss: 0.2414 - val_accuracy: 0.9207 - val_loss: 0.2014 - learning_rate: 6.0000e-04\n",
            "Epoch 7/30\n",
            "\u001b[1m54/54\u001b[0m \u001b[32m━━━━━━━━━━━━━━━━━━━━\u001b[0m\u001b[37m\u001b[0m \u001b[1m146s\u001b[0m 3s/step - accuracy: 0.9205 - loss: 0.2379 - val_accuracy: 0.9231 - val_loss: 0.1902 - learning_rate: 6.0000e-04\n",
            "Epoch 8/30\n",
            "\u001b[1m54/54\u001b[0m \u001b[32m━━━━━━━━━━━━━━━━━━━━\u001b[0m\u001b[37m\u001b[0m \u001b[1m149s\u001b[0m 3s/step - accuracy: 0.9219 - loss: 0.1888 - val_accuracy: 0.9347 - val_loss: 0.1531 - learning_rate: 1.2000e-04\n",
            "Epoch 9/30\n",
            "\u001b[1m54/54\u001b[0m \u001b[32m━━━━━━━━━━━━━━━━━━━━\u001b[0m\u001b[37m\u001b[0m \u001b[1m147s\u001b[0m 3s/step - accuracy: 0.9198 - loss: 0.1848 - val_accuracy: 0.9417 - val_loss: 0.1569 - learning_rate: 1.2000e-04\n",
            "Epoch 10/30\n",
            "\u001b[1m54/54\u001b[0m \u001b[32m━━━━━━━━━━━━━━━━━━━━\u001b[0m\u001b[37m\u001b[0m \u001b[1m148s\u001b[0m 3s/step - accuracy: 0.9274 - loss: 0.1815 - val_accuracy: 0.9347 - val_loss: 0.1609 - learning_rate: 1.2000e-04\n",
            "Epoch 11/30\n",
            "\u001b[1m54/54\u001b[0m \u001b[32m━━━━━━━━━━━━━━━━━━━━\u001b[0m\u001b[37m\u001b[0m \u001b[1m146s\u001b[0m 3s/step - accuracy: 0.9302 - loss: 0.1796 - val_accuracy: 0.9184 - val_loss: 0.1839 - learning_rate: 1.2000e-04\n",
            "Epoch 12/30\n",
            "\u001b[1m54/54\u001b[0m \u001b[32m━━━━━━━━━━━━━━━━━━━━\u001b[0m\u001b[37m\u001b[0m \u001b[1m154s\u001b[0m 3s/step - accuracy: 0.9357 - loss: 0.1670 - val_accuracy: 0.9324 - val_loss: 0.1649 - learning_rate: 2.4000e-05\n",
            "Epoch 13/30\n",
            "\u001b[1m54/54\u001b[0m \u001b[32m━━━━━━━━━━━━━━━━━━━━\u001b[0m\u001b[37m\u001b[0m \u001b[1m154s\u001b[0m 3s/step - accuracy: 0.9322 - loss: 0.1723 - val_accuracy: 0.9277 - val_loss: 0.1702 - learning_rate: 2.4000e-05\n"
          ]
        }
      ]
    },
    {
      "cell_type": "markdown",
      "source": [
        "**5. 📊 Evaluasi Model**\n",
        "\n",
        "*   Prediksi data validasi\n",
        "*   Confusion Matrix\n",
        "*   Classification Report\n",
        "*   Accuracy Score\n",
        "\n"
      ],
      "metadata": {
        "id": "ldLE2kuW-3Cj"
      }
    },
    {
      "cell_type": "code",
      "source": [
        "from sklearn.metrics import classification_report, confusion_matrix, accuracy_score\n",
        "import numpy as np\n",
        "import seaborn as sns\n",
        "import matplotlib.pyplot as plt\n",
        "\n",
        "# Prediksi di data validasi\n",
        "Y_pred = model.predict(val_data)\n",
        "y_pred = np.argmax(Y_pred, axis=1)\n",
        "\n",
        "# Tampilkan Confusion Matrix\n",
        "cm = confusion_matrix(val_data.classes, y_pred)\n",
        "plt.figure(figsize=(8,6))\n",
        "sns.heatmap(cm, annot=True, fmt='d', xticklabels=val_data.class_indices.keys(), yticklabels=val_data.class_indices.keys())\n",
        "plt.title(\"Confusion Matrix\")\n",
        "plt.xlabel(\"Predicted\")\n",
        "plt.ylabel(\"True\")\n",
        "plt.show()\n",
        "\n",
        "# Classification Report\n",
        "print(classification_report(val_data.classes, y_pred, target_names=val_data.class_indices.keys()))\n",
        "\n",
        "# Accuracy Score\n",
        "accuracy = accuracy_score(val_data.classes, y_pred)\n",
        "print(f\"Accuracy Score: {accuracy * 100:.2f}%\")"
      ],
      "metadata": {
        "colab": {
          "base_uri": "https://localhost:8080/",
          "height": 807
        },
        "id": "p6Vzq6Yh2VIc",
        "outputId": "9ff7d02a-841b-4a0e-9290-d1615f41b481"
      },
      "execution_count": 50,
      "outputs": [
        {
          "output_type": "stream",
          "name": "stdout",
          "text": [
            "\u001b[1m14/14\u001b[0m \u001b[32m━━━━━━━━━━━━━━━━━━━━\u001b[0m\u001b[37m\u001b[0m \u001b[1m40s\u001b[0m 3s/step\n"
          ]
        },
        {
          "output_type": "display_data",
          "data": {
            "text/plain": [
              "<Figure size 800x600 with 2 Axes>"
            ],
            "image/png": "[encoded data removed]"
          },
          "metadata": {}
        },
        {
          "output_type": "stream",
          "name": "stdout",
          "text": [
            "              precision    recall  f1-score   support\n",
            "\n",
            "       Bikes       1.00      1.00      1.00        86\n",
            "         Bus       0.95      0.90      0.92        86\n",
            "        Cars       0.94      0.86      0.90        86\n",
            " Motorcycles       1.00      0.95      0.98        86\n",
            "       Truck       0.79      0.94      0.86        85\n",
            "\n",
            "    accuracy                           0.93       429\n",
            "   macro avg       0.94      0.93      0.93       429\n",
            "weighted avg       0.94      0.93      0.93       429\n",
            "\n",
            "Accuracy Score: 93.01%\n"
          ]
        }
      ]
    },
    {
      "cell_type": "markdown",
      "source": [
        "**6. 🖼 Upload Gambar Kendaraan untuk Diuji**"
      ],
      "metadata": {
        "id": "GKCXCSb3_D_W"
      }
    },
    {
      "cell_type": "code",
      "source": [
        "# Uji Parkir dengan Upload Gambar Kendaraan\n",
        "from tensorflow.keras.preprocessing import image\n",
        "uploaded = files.upload()"
      ],
      "metadata": {
        "colab": {
          "base_uri": "https://localhost:8080/",
          "height": 176
        },
        "id": "bg003cnBANZe",
        "outputId": "ca5afdfc-865b-4d8f-e17b-7ee47fe106e3"
      },
      "execution_count": 1,
      "outputs": [
        {
          "output_type": "error",
          "ename": "NameError",
          "evalue": "name 'files' is not defined",
          "traceback": [
            "\u001b[0;31m---------------------------------------------------------------------------\u001b[0m",
            "\u001b[0;31mNameError\u001b[0m                                 Traceback (most recent call last)",
            "\u001b[0;32m<ipython-input-1-3168794022>\u001b[0m in \u001b[0;36m<cell line: 0>\u001b[0;34m()\u001b[0m\n\u001b[1;32m      1\u001b[0m \u001b[0;31m# Uji Parkir dengan Upload Gambar Kendaraan\u001b[0m\u001b[0;34m\u001b[0m\u001b[0;34m\u001b[0m\u001b[0m\n\u001b[1;32m      2\u001b[0m \u001b[0;32mfrom\u001b[0m \u001b[0mtensorflow\u001b[0m\u001b[0;34m.\u001b[0m\u001b[0mkeras\u001b[0m\u001b[0;34m.\u001b[0m\u001b[0mpreprocessing\u001b[0m \u001b[0;32mimport\u001b[0m \u001b[0mimage\u001b[0m\u001b[0;34m\u001b[0m\u001b[0;34m\u001b[0m\u001b[0m\n\u001b[0;32m----> 3\u001b[0;31m \u001b[0muploaded\u001b[0m \u001b[0;34m=\u001b[0m \u001b[0mfiles\u001b[0m\u001b[0;34m.\u001b[0m\u001b[0mupload\u001b[0m\u001b[0;34m(\u001b[0m\u001b[0;34m)\u001b[0m\u001b[0;34m\u001b[0m\u001b[0;34m\u001b[0m\u001b[0m\n\u001b[0m",
            "\u001b[0;31mNameError\u001b[0m: name 'files' is not defined"
          ]
        }
      ]
    },
    {
      "cell_type": "markdown",
      "source": [
        "**7. 🅿️ Deteksi Kendaraan + Simulasi Parkir Realistis**\n",
        "\n",
        "*   Deteksi gambar kendaraan\n",
        "*   Tampilkan informasi parkir kendaraan\n",
        "*   Simulasi parkir kendaraan dan pembayaran\n",
        "*   Logging Data ke file CSV\n"
      ],
      "metadata": {
        "id": "8H6Y6w-IARG4"
      }
    },
    {
      "cell_type": "code",
      "source": [
        "import pandas as pd\n",
        "from datetime import datetime\n",
        "import os\n",
        "from tensorflow.keras.preprocessing import image\n",
        "import numpy as np\n",
        "from google.colab import files # Assuming files was imported in a previous cell\n",
        "\n",
        "#Info parkir berdasarkan jenis kendaraan\n",
        "info_parkir = {\n",
        "    'Bus': {\"tarif\": 15000, \"lantai\": \"1 & 2\", \"area\": \"C1–C4 & B1–B6\"},\n",
        "    'Cars': {\"tarif\": 8000, \"lantai\": \"2 & 3\", \"area\": \"B7–A10 & A1–A6\"},\n",
        "    'Truck': {\"tarif\": 10000, \"lantai\": \"1\", \"area\": \"C5–C8\"},\n",
        "    'Bikes': {\"tarif\": 1000, \"lantai\": \"1\", \"area\": \"C9–C10\"},\n",
        "    'Motorcycles': {\"tarif\": 3000, \"lantai\": \"B1 & B2\", \"area\": \"D1–D10 & E1–E10\"}\n",
        "}\n",
        "\n",
        "#Deteksi gambar kendaraan & tampilkan informasi parkir\n",
        "for fn in uploaded.keys():\n",
        "\n",
        "    # Preprocessing gambar\n",
        "    img = image.load_img(fn, target_size=image_size)\n",
        "    img_array = image.img_to_array(img) / 255.0\n",
        "    img_array = np.expand_dims(img_array, axis=0)\n",
        "\n",
        "    # Prediksi jenis kendaraan\n",
        "    prediction = model.predict(img_array)\n",
        "    class_index = np.argmax(prediction)\n",
        "    class_label = list(train_data.class_indices.keys())[class_index]\n",
        "\n",
        "    # Tampilkan info hasil deteksi\n",
        "    print(f\"\\n🔍 Jenis Kendaraan Terdeteksi: {class_label}\")\n",
        "    print(f\"📍 Lantai: {info_parkir[class_label]['lantai']}\")\n",
        "    print(f\"📍 Area: {info_parkir[class_label]['area']}\")\n",
        "    print(f\"💰 Tarif Parkir: Rp{info_parkir[class_label]['tarif']}/jam\")\n",
        "\n",
        "    # Input waktu masuk & keluar\n",
        "    tanggal_masuk = input(\"📅 Masukkan tanggal masuk (format: YYYY-MM-DD): \")\n",
        "    jam_masuk = input(\"⏱ Masukkan waktu masuk (format: HH:MM, contoh: 08:00): \")\n",
        "\n",
        "    tanggal_keluar = input(\"📅 Masukkan tanggal keluar (format: YYYY-MM-DD): \")\n",
        "    jam_keluar = input(\"⏱ Masukkan waktu keluar (format: HH:MM, contoh: 10:15): \")\n",
        "\n",
        "    # Hitung durasi (dalam jam)\n",
        "    t1 = datetime.strptime(f\"{tanggal_masuk} {jam_masuk}\", \"%Y-%m-%d %H:%M\")\n",
        "    t2 = datetime.strptime(f\"{tanggal_keluar} {jam_keluar}\", \"%Y-%m-%d %H:%M\")\n",
        "    # Call the total_seconds method by adding ()\n",
        "    durasi = (t2 - t1).total_seconds() / 3600\n",
        "    durasi_jam = max(1, round(durasi))  # dibulatkan ke atas min 1 jam\n",
        "\n",
        "    # Hitung total tarif parkir\n",
        "    tarif_per_jam = info_parkir[class_label]['tarif']\n",
        "    total = tarif_per_jam * durasi_jam\n",
        "\n",
        "    # Output durasi & biaya parkir\n",
        "    print(f\"🕓 Durasi Parkir: {durasi_jam} jam\")\n",
        "    print(f\"💸 Total Tarif: Rp{total}\")\n",
        "\n",
        "    # Proses pembayaran\n",
        "    bayar = int(input(\"💵 Masukkan jumlah uang yang dibayar (misal 20000): \"))\n",
        "    kembali = bayar - total\n",
        "    print(f\"💳 Kembalian: Rp{kembali}\")\n",
        "\n",
        "    # Buat log dictionary ke CSV harian\n",
        "    log_data = {\n",
        "        \"tanggal_masuk\": tanggal_masuk,\n",
        "        \"jam_masuk\": jam_masuk,\n",
        "        \"tanggal_keluar\": tanggal_keluar,\n",
        "        \"jam_keluar\": jam_keluar,\n",
        "        \"kendaraan\": class_label,\n",
        "        \"durasi_jam\": durasi_jam,\n",
        "        \"total_tarif\": total,\n",
        "        \"dibayar\": bayar,\n",
        "        \"kembalian\": kembali,\n",
        "        \"waktu_input\": datetime.now().strftime(\"%Y-%m-%d %H:%M:%S\")\n",
        "    }\n",
        "    # Konversi ke DataFrame\n",
        "    df_log = pd.DataFrame([log_data])\n",
        "\n",
        "    # Buat nama file berdasarkan tanggal masuk\n",
        "    # Corrected: use 'tanggal_masuk' from log_data instead of 'tanggal'\n",
        "    log_filename = f\"log_parkir_{log_data['tanggal_masuk']}.csv\"\n",
        "\n",
        "    # Simpan ke file log harian\n",
        "    df_log.to_csv(log_filename, mode='a', header=not os.path.exists(log_filename), index=False)\n",
        "\n",
        "    print(f\"📝 Data parkir disimpan ke {log_filename}\")"
      ],
      "metadata": {
        "colab": {
          "base_uri": "https://localhost:8080/"
        },
        "id": "n9lOlH12AWtj",
        "outputId": "3a21e04f-609e-4629-a96f-624e5c0f9c39"
      },
      "execution_count": 47,
      "outputs": [
        {
          "output_type": "stream",
          "name": "stdout",
          "text": [
            "\u001b[1m1/1\u001b[0m \u001b[32m━━━━━━━━━━━━━━━━━━━━\u001b[0m\u001b[37m\u001b[0m \u001b[1m2s\u001b[0m 2s/step\n",
            "\n",
            "🔍 Jenis Kendaraan Terdeteksi: Cars\n",
            "📍 Lantai: 2 & 3\n",
            "📍 Area: B7–A10 & A1–A6\n",
            "💰 Tarif Parkir: Rp8000/jam\n",
            "📅 Masukkan tanggal masuk (format: YYYY-MM-DD): 2025-06-10\n",
            "⏱ Masukkan waktu masuk (format: HH:MM, contoh: 08:00): 10:37\n",
            "📅 Masukkan tanggal keluar (format: YYYY-MM-DD): 2025-06-10\n",
            "⏱ Masukkan waktu keluar (format: HH:MM, contoh: 10:15): 16:57\n",
            "🕓 Durasi Parkir: 6 jam\n",
            "💸 Total Tarif: Rp48000\n",
            "💵 Masukkan jumlah uang yang dibayar (misal 20000): 50000\n",
            "💳 Kembalian: Rp2000\n",
            "📝 Data parkir disimpan ke log_parkir_2025-06-10.csv\n"
          ]
        }
      ]
    }
  ]
}